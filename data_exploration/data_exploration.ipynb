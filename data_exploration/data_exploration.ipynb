{
 "cells": [
  {
   "cell_type": "code",
   "execution_count": 1,
   "id": "ed908069",
   "metadata": {
    "ExecuteTime": {
     "end_time": "2022-07-20T10:57:00.461430Z",
     "start_time": "2022-07-20T10:57:00.443478Z"
    }
   },
   "outputs": [],
   "source": [
    "import os\n",
    "import json"
   ]
  },
  {
   "cell_type": "code",
   "execution_count": 17,
   "id": "7219960b",
   "metadata": {
    "ExecuteTime": {
     "end_time": "2022-07-20T11:02:04.570771Z",
     "start_time": "2022-07-20T11:02:04.554817Z"
    }
   },
   "outputs": [],
   "source": [
    "PATH = \"../data/\"\n",
    "files = os.listdir(PATH)\n",
    "\n",
    "files.remove(\"base_file.txt\")"
   ]
  },
  {
   "cell_type": "markdown",
   "id": "0d907e6d",
   "metadata": {},
   "source": [
    "# Load Files"
   ]
  },
  {
   "cell_type": "code",
   "execution_count": 18,
   "id": "f48799c1",
   "metadata": {
    "ExecuteTime": {
     "end_time": "2022-07-20T11:02:05.210168Z",
     "start_time": "2022-07-20T11:02:05.150808Z"
    }
   },
   "outputs": [
    {
     "name": "stdout",
     "output_type": "stream",
     "text": [
      "../data/Aghil.json\n",
      "../data/Aryan.json\n",
      "../data/Driver.json\n",
      "../data/Forgot 11B.json\n",
      "../data/Neglected.json\n",
      "../data/Pratik.json\n"
     ]
    }
   ],
   "source": [
    "users = dict()\n",
    "\n",
    "for file in files:\n",
    "    FILEPATH = os.path.join(PATH, file)\n",
    "    json_dict = json.load(open(FILEPATH, \"r\", encoding=\"utf-8\"))\n",
    "    user_name = list(json_dict.keys())[0]\n",
    "    users[user_name] = json_dict[user_name]"
   ]
  },
  {
   "cell_type": "code",
   "execution_count": 20,
   "id": "be566752",
   "metadata": {
    "ExecuteTime": {
     "end_time": "2022-07-20T11:02:13.418230Z",
     "start_time": "2022-07-20T11:02:13.412189Z"
    }
   },
   "outputs": [
    {
     "data": {
      "text/plain": [
       "dict_keys(['Aghil', 'Aryan', 'Driver', 'Forgot 11B', 'Neglected', 'Pratik'])"
      ]
     },
     "execution_count": 20,
     "metadata": {},
     "output_type": "execute_result"
    }
   ],
   "source": [
    "users.keys()"
   ]
  },
  {
   "cell_type": "markdown",
   "id": "2498cb46",
   "metadata": {},
   "source": [
    "# Process text"
   ]
  },
  {
   "cell_type": "code",
   "execution_count": 67,
   "id": "f9fbb2f5",
   "metadata": {
    "ExecuteTime": {
     "end_time": "2022-07-20T11:25:27.278840Z",
     "start_time": "2022-07-20T11:25:27.261905Z"
    }
   },
   "outputs": [],
   "source": [
    "import nltk\n",
    "from numba import prange\n",
    "from pprint import pprint"
   ]
  },
  {
   "cell_type": "code",
   "execution_count": 71,
   "id": "18db419a",
   "metadata": {
    "ExecuteTime": {
     "end_time": "2022-07-20T11:26:54.015108Z",
     "start_time": "2022-07-20T11:26:54.004129Z"
    }
   },
   "outputs": [],
   "source": [
    "EXCLUDE_WORDS = [\"https\", \"tht\", \"https\", \"u\"]\n",
    "EXCLUDE_WORDS.extend(nltk.corpus.stopwords.words('english'))"
   ]
  },
  {
   "cell_type": "code",
   "execution_count": 72,
   "id": "ad70a2ba",
   "metadata": {
    "ExecuteTime": {
     "end_time": "2022-07-20T11:27:01.567796Z",
     "start_time": "2022-07-20T11:26:54.163673Z"
    }
   },
   "outputs": [],
   "source": [
    "user_word_counts = dict()\n",
    "\n",
    "for user in users:\n",
    "    messages = users[user]\n",
    "    word_counts = dict()\n",
    "    for message_idx in prange(len(messages)):\n",
    "        tokenized = nltk.tokenize.word_tokenize(messages[message_idx])\n",
    "        for word in tokenized:\n",
    "            word = word.lower()\n",
    "            if word not in EXCLUDE_WORDS and word.isalpha():\n",
    "                if word in word_counts:\n",
    "                    word_counts[word] += 1\n",
    "                else:\n",
    "                    word_counts[word] = 1\n",
    "    user_word_counts[user] = word_counts"
   ]
  },
  {
   "cell_type": "code",
   "execution_count": 73,
   "id": "e60710d8",
   "metadata": {
    "ExecuteTime": {
     "end_time": "2022-07-20T11:27:01.583726Z",
     "start_time": "2022-07-20T11:27:01.568757Z"
    }
   },
   "outputs": [],
   "source": [
    "sorted_word_counts = dict()\n",
    "\n",
    "for user in user_word_counts:\n",
    "    word_count = user_word_counts[user].items()\n",
    "    sorted_word_counts[user] = sorted(word_count, key=lambda x: x[1], reverse=True)"
   ]
  },
  {
   "cell_type": "code",
   "execution_count": 74,
   "id": "74413425",
   "metadata": {
    "ExecuteTime": {
     "end_time": "2022-07-20T11:27:01.599675Z",
     "start_time": "2022-07-20T11:27:01.584714Z"
    },
    "scrolled": false
   },
   "outputs": [
    {
     "name": "stdout",
     "output_type": "stream",
     "text": [
      "========================\n",
      "\n",
      "Aghil \n",
      "\n",
      "Top 20 words are: \n",
      "\n",
      "('bro', 1681)\n",
      "('like', 1469)\n",
      "('man', 1182)\n",
      "('yeah', 1034)\n",
      "('also', 612)\n",
      "('lah', 586)\n",
      "('get', 523)\n",
      "('one', 506)\n",
      "('aryan', 497)\n",
      "('guys', 441)\n",
      "('lol', 435)\n",
      "('know', 428)\n",
      "('good', 394)\n",
      "('want', 385)\n",
      "('need', 370)\n",
      "('cause', 362)\n",
      "('time', 359)\n",
      "('right', 345)\n",
      "('even', 339)\n",
      "('shit', 327)\n",
      "========================\n",
      "\n",
      "Aryan \n",
      "\n",
      "Top 20 words are: \n",
      "\n",
      "('like', 1238)\n",
      "('yea', 747)\n",
      "('also', 586)\n",
      "('im', 500)\n",
      "('la', 488)\n",
      "('cause', 456)\n",
      "('one', 456)\n",
      "('lol', 401)\n",
      "('get', 352)\n",
      "('lmao', 329)\n",
      "('shit', 314)\n",
      "('dude', 313)\n",
      "('know', 293)\n",
      "('dont', 292)\n",
      "('thats', 287)\n",
      "('bro', 286)\n",
      "('need', 265)\n",
      "('got', 258)\n",
      "('pratik', 255)\n",
      "('people', 253)\n",
      "========================\n",
      "\n",
      "Driver \n",
      "\n",
      "Top 20 words are: \n",
      "\n",
      "('like', 297)\n",
      "('hav', 273)\n",
      "('yea', 265)\n",
      "('lol', 231)\n",
      "('lmao', 207)\n",
      "('got', 180)\n",
      "('oh', 176)\n",
      "('get', 151)\n",
      "('time', 144)\n",
      "('bro', 143)\n",
      "('go', 141)\n",
      "('good', 136)\n",
      "('sujay', 130)\n",
      "('man', 115)\n",
      "('one', 107)\n",
      "('idk', 104)\n",
      "('coz', 101)\n",
      "('haha', 100)\n",
      "('guys', 99)\n",
      "('right', 96)\n",
      "========================\n",
      "\n",
      "Forgot 11B \n",
      "\n",
      "Top 20 words are: \n",
      "\n",
      "('lol', 1032)\n",
      "('like', 941)\n",
      "('yeah', 683)\n",
      "('bro', 677)\n",
      "('lmao', 608)\n",
      "('guys', 392)\n",
      "('na', 351)\n",
      "('one', 342)\n",
      "('get', 311)\n",
      "('got', 311)\n",
      "('also', 305)\n",
      "('okay', 287)\n",
      "('oh', 275)\n",
      "('know', 262)\n",
      "('bruh', 260)\n",
      "('pratik', 256)\n",
      "('go', 250)\n",
      "('mean', 250)\n",
      "('lemau', 243)\n",
      "('lah', 242)\n",
      "========================\n",
      "\n",
      "Neglected \n",
      "\n",
      "Top 20 words are: \n",
      "\n",
      "('like', 1191)\n",
      "('yea', 696)\n",
      "('lmao', 510)\n",
      "('one', 402)\n",
      "('get', 369)\n",
      "('bro', 366)\n",
      "('guys', 360)\n",
      "('na', 316)\n",
      "('mean', 285)\n",
      "('lah', 285)\n",
      "('go', 255)\n",
      "('okay', 254)\n",
      "('got', 249)\n",
      "('good', 248)\n",
      "('know', 228)\n",
      "('gon', 219)\n",
      "('dude', 212)\n",
      "('fk', 205)\n",
      "('im', 201)\n",
      "('time', 197)\n",
      "========================\n",
      "\n",
      "Pratik \n",
      "\n",
      "Top 20 words are: \n",
      "\n",
      "('like', 1144)\n",
      "('lol', 1142)\n",
      "('yeah', 1088)\n",
      "('also', 539)\n",
      "('la', 408)\n",
      "('one', 407)\n",
      "('get', 402)\n",
      "('mean', 397)\n",
      "('good', 384)\n",
      "('cause', 363)\n",
      "('think', 341)\n",
      "('got', 322)\n",
      "('idk', 311)\n",
      "('bro', 300)\n",
      "('even', 298)\n",
      "('go', 290)\n",
      "('time', 279)\n",
      "('aryan', 278)\n",
      "('need', 268)\n",
      "('ok', 265)\n"
     ]
    }
   ],
   "source": [
    "for user in sorted_word_counts:\n",
    "    print(\"========================\\n\")\n",
    "    print(f\"{user} \\n\")\n",
    "    print(f\"Top 20 words are: \\n\")\n",
    "    print(*sorted_word_counts[user][:20], sep='\\n')"
   ]
  },
  {
   "cell_type": "code",
   "execution_count": null,
   "id": "a0aeb790",
   "metadata": {},
   "outputs": [],
   "source": []
  },
  {
   "cell_type": "code",
   "execution_count": null,
   "id": "71717bdc",
   "metadata": {},
   "outputs": [],
   "source": []
  }
 ],
 "metadata": {
  "kernelspec": {
   "display_name": "Python 3 (ipykernel)",
   "language": "python",
   "name": "python3"
  },
  "language_info": {
   "codemirror_mode": {
    "name": "ipython",
    "version": 3
   },
   "file_extension": ".py",
   "mimetype": "text/x-python",
   "name": "python",
   "nbconvert_exporter": "python",
   "pygments_lexer": "ipython3",
   "version": "3.9.12"
  },
  "latex_envs": {
   "LaTeX_envs_menu_present": true,
   "autoclose": false,
   "autocomplete": true,
   "bibliofile": "biblio.bib",
   "cite_by": "apalike",
   "current_citInitial": 1,
   "eqLabelWithNumbers": true,
   "eqNumInitial": 1,
   "hotkeys": {
    "equation": "Ctrl-E",
    "itemize": "Ctrl-I"
   },
   "labels_anchors": false,
   "latex_user_defs": false,
   "report_style_numbering": false,
   "user_envs_cfg": false
  },
  "toc": {
   "base_numbering": 1,
   "nav_menu": {},
   "number_sections": true,
   "sideBar": true,
   "skip_h1_title": false,
   "title_cell": "Table of Contents",
   "title_sidebar": "Contents",
   "toc_cell": false,
   "toc_position": {},
   "toc_section_display": true,
   "toc_window_display": false
  }
 },
 "nbformat": 4,
 "nbformat_minor": 5
}
